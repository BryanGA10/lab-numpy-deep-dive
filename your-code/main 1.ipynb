{
 "cells": [
  {
   "cell_type": "code",
   "execution_count": 1,
   "id": "8ba795b5",
   "metadata": {},
   "outputs": [],
   "source": [
    "#1. Import the NUMPY package under the name np.\n",
    "\n",
    "import numpy as np"
   ]
  },
  {
   "cell_type": "code",
   "execution_count": 2,
   "id": "706565b0",
   "metadata": {},
   "outputs": [
    {
     "data": {
      "text/plain": [
       "'1.20.3'"
      ]
     },
     "execution_count": 2,
     "metadata": {},
     "output_type": "execute_result"
    }
   ],
   "source": [
    "#2. Print the NUMPY version and the configuration.\n",
    "\n",
    "np.__version__"
   ]
  },
  {
   "cell_type": "code",
   "execution_count": 8,
   "id": "c163db65",
   "metadata": {},
   "outputs": [],
   "source": [
    "#3. Generate a 2x3x5 3-dimensional array with random values. Assign the array to variable \"a\"\n",
    "# Challenge: there are at least three easy ways that use numpy to generate random arrays. How many ways can you find?\n",
    "\n",
    "a = np.random.random((2, 3, 5))\n"
   ]
  },
  {
   "cell_type": "code",
   "execution_count": 9,
   "id": "74e93310",
   "metadata": {},
   "outputs": [
    {
     "name": "stdout",
     "output_type": "stream",
     "text": [
      "[[[0.2688707  0.28506441 0.75037681 0.76226697 0.79145649]\n",
      "  [0.6947233  0.74068288 0.72085094 0.88894662 0.06661388]\n",
      "  [0.70425808 0.70586791 0.23881631 0.4196628  0.73957737]]\n",
      "\n",
      " [[0.55079643 0.76600217 0.59390766 0.1743679  0.82455694]\n",
      "  [0.31991492 0.53646866 0.37479128 0.14761459 0.81071941]\n",
      "  [0.71778493 0.92072633 0.73596115 0.34331471 0.17703326]]]\n"
     ]
    }
   ],
   "source": [
    "#4. Print a.\n",
    "\n",
    "print(a)"
   ]
  },
  {
   "cell_type": "code",
   "execution_count": 10,
   "id": "bda932e5",
   "metadata": {},
   "outputs": [],
   "source": [
    "#5. Create a 5x2x3 3-dimensional array with all values equaling 1.\n",
    "#Assign the array to variable \"b\"\n",
    "\n",
    "b = np.ones((5, 2, 3))"
   ]
  },
  {
   "cell_type": "code",
   "execution_count": 11,
   "id": "d4276e61",
   "metadata": {},
   "outputs": [
    {
     "name": "stdout",
     "output_type": "stream",
     "text": [
      "[[[1. 1. 1.]\n",
      "  [1. 1. 1.]]\n",
      "\n",
      " [[1. 1. 1.]\n",
      "  [1. 1. 1.]]\n",
      "\n",
      " [[1. 1. 1.]\n",
      "  [1. 1. 1.]]\n",
      "\n",
      " [[1. 1. 1.]\n",
      "  [1. 1. 1.]]\n",
      "\n",
      " [[1. 1. 1.]\n",
      "  [1. 1. 1.]]]\n"
     ]
    }
   ],
   "source": [
    "print(b)"
   ]
  },
  {
   "cell_type": "code",
   "execution_count": 13,
   "id": "ce5339f1",
   "metadata": {},
   "outputs": [
    {
     "name": "stdout",
     "output_type": "stream",
     "text": [
      "30\n",
      "30\n"
     ]
    }
   ],
   "source": [
    "#7. Do a and b have the same size? How do you prove that in Python code?\n",
    "\n",
    "print(a.size)\n",
    "print(b.size)"
   ]
  },
  {
   "cell_type": "code",
   "execution_count": 14,
   "id": "4fe96106",
   "metadata": {},
   "outputs": [],
   "source": [
    "#8. Are you able to add a and b? Why or why not? \n",
    "\n",
    "#Not since they have different numbers of Rows and Columns "
   ]
  },
  {
   "cell_type": "code",
   "execution_count": 15,
   "id": "5c1da8a9",
   "metadata": {},
   "outputs": [
    {
     "name": "stdout",
     "output_type": "stream",
     "text": [
      "[[[1. 1. 1. 1. 1.]\n",
      "  [1. 1. 1. 1. 1.]\n",
      "  [1. 1. 1. 1. 1.]]\n",
      "\n",
      " [[1. 1. 1. 1. 1.]\n",
      "  [1. 1. 1. 1. 1.]\n",
      "  [1. 1. 1. 1. 1.]]]\n"
     ]
    }
   ],
   "source": [
    "#9. Transpose b so that it has the same structure of a (i.e. become a 2x3x5 array). Assign the transposed array to varialbe \"c\".\n",
    "\n",
    "c = b.reshape(2,3,5)\n",
    "print(c)"
   ]
  },
  {
   "cell_type": "code",
   "execution_count": 23,
   "id": "b0e3dbd9",
   "metadata": {},
   "outputs": [
    {
     "name": "stdout",
     "output_type": "stream",
     "text": [
      "[[[0.2688707  0.28506441 0.75037681 0.76226697 0.79145649]\n",
      "  [0.6947233  0.74068288 0.72085094 0.88894662 0.06661388]\n",
      "  [0.70425808 0.70586791 0.23881631 0.4196628  0.73957737]]\n",
      "\n",
      " [[0.55079643 0.76600217 0.59390766 0.1743679  0.82455694]\n",
      "  [0.31991492 0.53646866 0.37479128 0.14761459 0.81071941]\n",
      "  [0.71778493 0.92072633 0.73596115 0.34331471 0.17703326]]]\n",
      "[[[1.2688707  1.28506441 1.75037681 1.76226697 1.79145649]\n",
      "  [1.6947233  1.74068288 1.72085094 1.88894662 1.06661388]\n",
      "  [1.70425808 1.70586791 1.23881631 1.4196628  1.73957737]]\n",
      "\n",
      " [[1.55079643 1.76600217 1.59390766 1.1743679  1.82455694]\n",
      "  [1.31991492 1.53646866 1.37479128 1.14761459 1.81071941]\n",
      "  [1.71778493 1.92072633 1.73596115 1.34331471 1.17703326]]]\n"
     ]
    }
   ],
   "source": [
    "#10. Try to add a and c. Now it should work. Assign the sum to varialbe \"d\". But why does it work now?\n",
    "\n",
    "d = a+c\n",
    "print(a)\n",
    "\n",
    "print(d)"
   ]
  },
  {
   "cell_type": "code",
   "execution_count": 24,
   "id": "daff08b3",
   "metadata": {},
   "outputs": [
    {
     "name": "stdout",
     "output_type": "stream",
     "text": [
      "[[[0.2688707  0.28506441 0.75037681 0.76226697 0.79145649]\n",
      "  [0.6947233  0.74068288 0.72085094 0.88894662 0.06661388]\n",
      "  [0.70425808 0.70586791 0.23881631 0.4196628  0.73957737]]\n",
      "\n",
      " [[0.55079643 0.76600217 0.59390766 0.1743679  0.82455694]\n",
      "  [0.31991492 0.53646866 0.37479128 0.14761459 0.81071941]\n",
      "  [0.71778493 0.92072633 0.73596115 0.34331471 0.17703326]]]\n",
      "[[[0.2688707  0.28506441 0.75037681 0.76226697 0.79145649]\n",
      "  [0.6947233  0.74068288 0.72085094 0.88894662 0.06661388]\n",
      "  [0.70425808 0.70586791 0.23881631 0.4196628  0.73957737]]\n",
      "\n",
      " [[0.55079643 0.76600217 0.59390766 0.1743679  0.82455694]\n",
      "  [0.31991492 0.53646866 0.37479128 0.14761459 0.81071941]\n",
      "  [0.71778493 0.92072633 0.73596115 0.34331471 0.17703326]]]\n"
     ]
    }
   ],
   "source": [
    "#12. Multiply a and c. Assign the result to e.\n",
    "\n",
    "e = a*c\n",
    "print(e)\n",
    "print(a)\n",
    "\n",
    "#13. Does e equal to a? Why or why not? Yes they are equal since the first was multiplied by ones."
   ]
  },
  {
   "cell_type": "code",
   "execution_count": 26,
   "id": "c94be6f5",
   "metadata": {},
   "outputs": [
    {
     "name": "stdout",
     "output_type": "stream",
     "text": [
      "El numero maximo es 1.9207263263937677\n",
      "El numero minimo es 1.066613879100287\n",
      "La media es 1.5590665271777098\n"
     ]
    }
   ],
   "source": [
    "#14. Identify the max, min, and mean values in d. Assign those values to variables \"d_max\", \"d_min\", and \"d_mean\"\n",
    "\n",
    "d_max = d.max()\n",
    "\n",
    "d_min = d.min()\n",
    "\n",
    "d_mean = d.mean()\n",
    "\n",
    "print(f'El numero maximo es {d_max}')\n",
    "\n",
    "print(f'El numero minimo es {d_min}')\n",
    "\n",
    "print(f'La media es {d_mean}')"
   ]
  },
  {
   "cell_type": "code",
   "execution_count": 39,
   "id": "6e2b7c80",
   "metadata": {},
   "outputs": [
    {
     "name": "stdout",
     "output_type": "stream",
     "text": [
      "[[[0.2688707  0.28506441 0.75037681 0.76226697 0.79145649]\n",
      "  [0.6947233  0.74068288 0.72085094 0.88894662 0.06661388]\n",
      "  [0.70425808 0.70586791 0.23881631 0.4196628  0.73957737]]\n",
      "\n",
      " [[0.55079643 0.76600217 0.59390766 0.1743679  0.82455694]\n",
      "  [0.31991492 0.53646866 0.37479128 0.14761459 0.81071941]\n",
      "  [0.71778493 0.92072633 0.73596115 0.34331471 0.17703326]]]\n"
     ]
    }
   ],
   "source": [
    "#15. Now we want to label the values in d. First create an empty array \"f\" with the same shape (i.e. 2x3x5) as d using `np.empty`.\n",
    "\n",
    "f = np.empty((2, 3, 5))\n",
    "print(f)\n",
    "             "
   ]
  },
  {
   "cell_type": "code",
   "execution_count": 84,
   "id": "8013d84d",
   "metadata": {},
   "outputs": [
    {
     "data": {
      "text/plain": [
       "\"\\n#16. Populate the values in f. \\n\\nFor each value in d, if it's larger than d_min but smaller than d_mean, assign 25 to the corresponding value in f.\\nIf a value in d is larger than d_mean but smaller than d_max, assign 75 to the corresponding value in f.\\nIf a value equals to d_mean, assign 50 to the corresponding value in f.\\nAssign 0 to the corresponding value(s) in f for d_min in d.\\nAssign 100 to the corresponding value(s) in f for d_max in d.\\nIn the end, f should have only the following values: 0, 25, 50, 75, and 100.\\nNote: you don't have to use Numpy in this question.\\n\\nd > d_min and d < d_mean = 25\\nd > d_mean and d < d_max = 75\\nd == d_mean = 50\\nd == d_min = 0\\nd == d_max = 100\\n\\n\\n\""
      ]
     },
     "execution_count": 84,
     "metadata": {},
     "output_type": "execute_result"
    }
   ],
   "source": [
    "'''\n",
    "#16. Populate the values in f. \n",
    "\n",
    "For each value in d, if it's larger than d_min but smaller than d_mean, assign 25 to the corresponding value in f.\n",
    "If a value in d is larger than d_mean but smaller than d_max, assign 75 to the corresponding value in f.\n",
    "If a value equals to d_mean, assign 50 to the corresponding value in f.\n",
    "Assign 0 to the corresponding value(s) in f for d_min in d.\n",
    "Assign 100 to the corresponding value(s) in f for d_max in d.\n",
    "In the end, f should have only the following values: 0, 25, 50, 75, and 100.\n",
    "Note: you don't have to use Numpy in this question.\n",
    "\n",
    "d > d_min and d < d_mean = 25\n",
    "d > d_mean and d < d_max = 75\n",
    "d == d_mean = 50\n",
    "d == d_min = 0\n",
    "d == d_max = 100\n",
    "\n",
    "\n",
    "'''"
   ]
  },
  {
   "cell_type": "code",
   "execution_count": 82,
   "id": "fb0f8bad",
   "metadata": {},
   "outputs": [],
   "source": [
    "f = np.array([[[25 if d_min<item<d_mean else 75 if d_mean<item< d_max else 0 if item == d_min else 100 for item in in_list] for in_list in out_list] for out_list in d])"
   ]
  },
  {
   "cell_type": "code",
   "execution_count": 83,
   "id": "68941902",
   "metadata": {},
   "outputs": [
    {
     "data": {
      "text/plain": [
       "array([[[ 25,  25,  75,  75,  75],\n",
       "        [ 75,  75,  75,  75,   0],\n",
       "        [ 75,  75,  25,  25,  75]],\n",
       "\n",
       "       [[ 25,  75,  75,  25,  75],\n",
       "        [ 25,  25,  25,  25,  75],\n",
       "        [ 75, 100,  75,  25,  25]]])"
      ]
     },
     "execution_count": 83,
     "metadata": {},
     "output_type": "execute_result"
    }
   ],
   "source": [
    "f"
   ]
  }
 ],
 "metadata": {
  "kernelspec": {
   "display_name": "Python 3 (ipykernel)",
   "language": "python",
   "name": "python3"
  },
  "language_info": {
   "codemirror_mode": {
    "name": "ipython",
    "version": 3
   },
   "file_extension": ".py",
   "mimetype": "text/x-python",
   "name": "python",
   "nbconvert_exporter": "python",
   "pygments_lexer": "ipython3",
   "version": "3.9.7"
  }
 },
 "nbformat": 4,
 "nbformat_minor": 5
}
